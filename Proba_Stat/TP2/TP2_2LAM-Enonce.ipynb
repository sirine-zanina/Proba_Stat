{
 "cells": [
  {
   "attachments": {},
   "cell_type": "markdown",
   "metadata": {},
   "source": [
    "|    nom   | prenom  | classe | groupe |\n",
    "|----------|---------|--------|--------|\n",
    "|  ZANINA  |  Sirine | 2LM1   | TP2    |"
   ]
  },
  {
   "cell_type": "markdown",
   "metadata": {},
   "source": [
    "# Simulation du jeux de LIDO simplifié"
   ]
  },
  {
   "cell_type": "markdown",
   "metadata": {},
   "source": [
    "## Principe\n",
    "On considére un jeux de Lido simple:\n",
    "on dispose d'un un seul pion.\n",
    "\n",
    "- Etape 0 :\n",
    "Le pion doit sort de sa prison lorsqu'on obtient un 6.\n",
    "\n",
    "- Etape 1 :\n",
    "Le pion doit atteindre exactement une position cible situé à N pas de distance de sa prison \n",
    "\n",
    "Soit $X_n$ la variable aléatoire qui represente le nombre de coup nécéssaire pour atteindre la positions cible.\n",
    "\n",
    "**Objectif 1** : Simuler le jeux \n",
    "\n",
    "**Objectif 2** : Calculer une estimation de l'éspérance mathématique de $X_n$ en utilisant `python`\n",
    "\n",
    "**Objéctif 3** : Observer la variation de $\\mathbb{E}(X_n)$ en fonction de $n$\n",
    "\n",
    "<img src=\"LIDO.png\">\n"
   ]
  },
  {
   "cell_type": "code",
   "execution_count": 1,
   "metadata": {},
   "outputs": [],
   "source": [
    "import numpy as np\n"
   ]
  },
  {
   "cell_type": "markdown",
   "metadata": {},
   "source": [
    "### Simulation du lancé de dé"
   ]
  },
  {
   "cell_type": "code",
   "execution_count": 2,
   "metadata": {},
   "outputs": [],
   "source": [
    "def Roll():\n",
    "    return int(np.random.choice([1,2,3,4,5,6],replace=True))\n",
    "# on a définit une fonction appelée Roll qui retourne un nombre entre 1 et 6 \n",
    "# replace = True => avec remise. On peut avoir une répétition."
   ]
  },
  {
   "cell_type": "code",
   "execution_count": 3,
   "metadata": {},
   "outputs": [
    {
     "name": "stdout",
     "output_type": "stream",
     "text": [
      "5\n",
      "6\n",
      "1\n",
      "1\n",
      "2\n",
      "5\n",
      "3\n",
      "6\n",
      "6\n",
      "2\n",
      "3\n",
      "5\n",
      "6\n",
      "4\n",
      "3\n"
     ]
    }
   ],
   "source": [
    "for i in range(15):\n",
    "    print(Roll())\n",
    "\n",
    "# on a exécuté la fonction Roll() 15 fois."
   ]
  },
  {
   "cell_type": "code",
   "execution_count": 4,
   "metadata": {},
   "outputs": [
    {
     "name": "stdout",
     "output_type": "stream",
     "text": [
      "1 6 1\n",
      "2 1 2\n",
      "3 6 8\n",
      "4 1 9\n",
      "5 5 14\n",
      "6 1 15\n",
      "7 4 19\n",
      "8 1 20\n",
      "le jeu est terminé après 8 fois\n"
     ]
    }
   ],
   "source": [
    "Pos= 0\n",
    "NBCoup=0\n",
    "Cible= 20\n",
    "temp=Roll()\n",
    "NBCoup=1\n",
    "if temp==6:\n",
    "    Pos=1\n",
    "    print(NBCoup, temp, Pos)\n",
    "\n",
    "\n",
    "else:\n",
    "    while temp!=1:\n",
    "        temp=Roll()\n",
    "        NBCoup+=1\n",
    "        if temp==6 :\n",
    "            Pos=1\n",
    "            print(NBCoup, temp, Pos)\n",
    "            break\n",
    "        print(NBCoup, temp, Pos)\n",
    "    print(f'le pion est sortie apres {NBCoup} Coups')\n",
    "\n",
    "#______________________________________________________________________________________\n",
    "\n",
    "\n",
    "while Pos<Cible:\n",
    "    temp=Roll()\n",
    "    NBCoup+=1\n",
    "\n",
    "    if Pos+temp>Cible:\n",
    "        print(NBCoup, temp, Pos)\n",
    "    elif Pos+temp==Cible:\n",
    "        Pos=Cible\n",
    "        print(NBCoup, temp, Pos)\n",
    "\n",
    "    else:\n",
    "        Pos+=temp\n",
    "        print(NBCoup, temp, Pos)\n",
    "\n",
    "print(f'le jeu est terminé après {NBCoup} fois')\n",
    "\n",
    "\n",
    "\n",
    "\n",
    "\n"
   ]
  },
  {
   "cell_type": "code",
   "execution_count": 5,
   "metadata": {},
   "outputs": [],
   "source": [
    "def LUDO(Cible):\n",
    "    Pos= 0\n",
    "    # valeur de la position initiliasé à 0.\n",
    "    NBCoup=0\n",
    "    # nombre de coups initialisé à 0.\n",
    "    temp=Roll()\n",
    "    # valeur temporaire temp prend la valeur obtenue suite à la lancé de dé.\n",
    "    NBCoup+=1\n",
    "    # nb de coups incrémenté par 1.\n",
    "    if temp==6:\n",
    "        # si la valeur obtenue suite à un Roll() est égal à 6.\n",
    "        Pos=1\n",
    "        # On avance.\n",
    "        #print(NBCoup, temp, Pos)\n",
    "    else:\n",
    "        while temp!=6:\n",
    "            # si la valeur obtenue suite à un Roll() est différent de 6.\n",
    "            temp=Roll()\n",
    "            # on Roll() encore une fois.\n",
    "            NBCoup+=1\n",
    "            # nombre de coups incrémenté par 1.\n",
    "            if temp==6 :\n",
    "                Pos=1\n",
    "                #print(NBCoup, temp, Pos)\n",
    "                break\n",
    "            #print(NBCoup, temp, Pos)\n",
    "        #print(f'le pion est sortie apres {NBCoup} Coups')\n",
    "\n",
    "    #______________________________________________________________________________________\n",
    "\n",
    "    while Pos<Cible:\n",
    "        temp=Roll()\n",
    "        # Puisque on n'a pas arrivé à notre position cible on contenue à roller.\n",
    "        NBCoup+=1\n",
    "    \n",
    "        if Pos+temp>Cible:\n",
    "            #print(NBCoup, temp, Pos)\n",
    "            pass\n",
    "            # Si la postion + la valeur qu'on à obtenue est supérieur à la valeur cible, on pass.\n",
    "        elif Pos+temp==Cible:\n",
    "            Pos=Cible\n",
    "            #print(NBCoup, temp, Pos)\n",
    "            # Si la postion + la valeur qu'on à obtenue est égal à la valeur cible, pos= cible.\n",
    "\n",
    "        else:\n",
    "            Pos+=temp\n",
    "            # Else on incrémente la position actuelle par la valeur obtenue suite à un Roll().\n",
    "            #print(NBCoup, temp, Pos)\n",
    "\n",
    "    return NBCoup\n",
    "    # retourner la valeur de nombre des coups.\n",
    "   "
   ]
  },
  {
   "cell_type": "code",
   "execution_count": 6,
   "metadata": {},
   "outputs": [
    {
     "data": {
      "text/plain": [
       "13"
      ]
     },
     "execution_count": 6,
     "metadata": {},
     "output_type": "execute_result"
    }
   ],
   "source": [
    "#simuler ludo avec la position cible = 20.\n",
    "LUDO(20)"
   ]
  },
  {
   "cell_type": "code",
   "execution_count": 7,
   "metadata": {},
   "outputs": [
    {
     "data": {
      "text/plain": [
       "16.15646"
      ]
     },
     "execution_count": 7,
     "metadata": {},
     "output_type": "execute_result"
    }
   ],
   "source": [
    "sum([LUDO(20) for i in range(100_000)])/100_000\n",
    "# la somme des valeurs obtenues avec la fonction LUDO(20) simulée 100_000 fois.\n"
   ]
  },
  {
   "cell_type": "code",
   "execution_count": 12,
   "metadata": {},
   "outputs": [],
   "source": [
    "Cible=[20,25,30,35,40,45]\n",
    "# une list des potentielles positions cibles.\n",
    "moy=[sum([LUDO(c) for i in range(100_000)])/100_000 for c in Cible]\n",
    "\n",
    "# moy : retourne la moyenne de la somme des valeurs obtenues avec la fonction LUDO(c) pour chacune des valeurs\n",
    "# trouvées dans la list Cible.\n"
   ]
  },
  {
   "cell_type": "code",
   "execution_count": 15,
   "metadata": {},
   "outputs": [
    {
     "data": {
      "image/png": "[encoded data removed]",
      "text/plain": [
       "<Figure size 640x480 with 1 Axes>"
      ]
     },
     "metadata": {},
     "output_type": "display_data"
    }
   ],
   "source": [
    "import matplotlib.pyplot as plt\n",
    "\n",
    "plt.plot(Cible, moy, 'ob')\n",
    "# plt.plot : plots the data\n",
    "# Cible: sur l'axe \"x\".\n",
    "# moy: sur l'axe \"y\".\n",
    "# 'ob' : spécification sur la nature des points affichés.\n",
    "# 'o': marker, 'b': blue.\n",
    "plt.show()"
   ]
  },
  {
   "cell_type": "code",
   "execution_count": null,
   "metadata": {},
   "outputs": [],
   "source": [
    "#moy= a*Cible +b \n",
    "# on a trouvé que la moyenne se représente sous la forme d'une fonction affine."
   ]
  },
  {
   "cell_type": "code",
   "execution_count": 16,
   "metadata": {},
   "outputs": [],
   "source": [
    "from scipy import stats\n",
    "slope, intercept, r_value, p_value, std_err =stats.linregress(Cible, moy)"
   ]
  },
  {
   "cell_type": "code",
   "execution_count": 17,
   "metadata": {},
   "outputs": [
    {
     "name": "stdout",
     "output_type": "stream",
     "text": [
      "0.2863866857142857 10.449611047619046\n"
     ]
    }
   ],
   "source": [
    "a,b=slope, intercept\n",
    "print(a,b)\n"
   ]
  },
  {
   "cell_type": "code",
   "execution_count": 43,
   "metadata": {},
   "outputs": [
    {
     "data": {
      "image/png": "[encoded data removed]",
      "text/plain": [
       "<Figure size 640x480 with 1 Axes>"
      ]
     },
     "metadata": {},
     "output_type": "display_data"
    }
   ],
   "source": [
    "plt.plot(Cible, moy, 'ob')\n",
    "x= np.linspace(20,45,1001)\n",
    "y=a*x+b\n",
    "plt.plot(x,y, '-r')\n",
    "# '-r': red line.\n",
    "plt.show()\n"
   ]
  },
  {
   "cell_type": "code",
   "execution_count": null,
   "metadata": {},
   "outputs": [],
   "source": [
    "#moy= 0.28495285714285723 * Cible +10.504460476190475"
   ]
  },
  {
   "cell_type": "markdown",
   "metadata": {},
   "source": [
    "### Compléter le code et commenter"
   ]
  },
  {
   "cell_type": "code",
   "execution_count": null,
   "metadata": {
    "scrolled": false
   },
   "outputs": [],
   "source": [
    "A=0\n",
    "NA=0\n",
    "S=10\n",
    "c=0\n",
    "while (A<S) :\n",
    "    pass"
   ]
  },
  {
   "cell_type": "markdown",
   "metadata": {},
   "source": [
    "### Simulation\n",
    "Ecrire une foction `sim` qui simule le jeux et qui prend comme variable le nombre de pas $n$ nécessazire pour atteindre la cible"
   ]
  },
  {
   "cell_type": "code",
   "execution_count": null,
   "metadata": {},
   "outputs": [],
   "source": [
    "def sim(S):\n",
    "    A=0\n",
    "    NA=0\n",
    "    c=0\n",
    "    while (A<S) :\n",
    "        pass\n",
    "    return c\n",
    "    "
   ]
  },
  {
   "cell_type": "code",
   "execution_count": 10,
   "metadata": {},
   "outputs": [
    {
     "data": {
      "text/plain": [
       "13"
      ]
     },
     "execution_count": 10,
     "metadata": {},
     "output_type": "execute_result"
    }
   ],
   "source": [
    "sim(20)"
   ]
  },
  {
   "cell_type": "markdown",
   "metadata": {},
   "source": [
    "### Simulation de $10^5$  scénario "
   ]
  },
  {
   "cell_type": "code",
   "execution_count": null,
   "metadata": {},
   "outputs": [],
   "source": [
    "Freq=np.fromiter((sim(20) for i in range(10**5)),dtype=int)"
   ]
  },
  {
   "cell_type": "code",
   "execution_count": 148,
   "metadata": {},
   "outputs": [
    {
     "data": {
      "text/plain": [
       "16.17253"
      ]
     },
     "execution_count": 148,
     "metadata": {},
     "output_type": "execute_result"
    }
   ],
   "source": [
    "ESP=Freq.sum()/10**5"
   ]
  },
  {
   "cell_type": "code",
   "execution_count": 11,
   "metadata": {},
   "outputs": [],
   "source": [
    "x=list(range(10,20))"
   ]
  },
  {
   "cell_type": "code",
   "execution_count": 14,
   "metadata": {},
   "outputs": [],
   "source": [
    "y=[np.fromiter((sim(u) for i in range(5*10**4)),dtype=int).sum()/50000 for u in x]"
   ]
  },
  {
   "cell_type": "code",
   "execution_count": 15,
   "metadata": {},
   "outputs": [],
   "source": [
    "import matplotlib.pyplot as plt"
   ]
  },
  {
   "cell_type": "code",
   "execution_count": 16,
   "metadata": {},
   "outputs": [
    {
     "data": {
      "text/plain": [
       "[<matplotlib.lines.Line2D at 0x1ccd4780588>]"
      ]
     },
     "execution_count": 16,
     "metadata": {},
     "output_type": "execute_result"
    },
    {
     "data": {
      "image/png": "[encoded data removed]",
      "text/plain": [
       "<Figure size 432x288 with 1 Axes>"
      ]
     },
     "metadata": {
      "needs_background": "light"
     },
     "output_type": "display_data"
    }
   ],
   "source": [
    "plt.plot(x,y)"
   ]
  },
  {
   "cell_type": "code",
   "execution_count": 17,
   "metadata": {},
   "outputs": [],
   "source": [
    "from scipy import stats\n",
    "import numpy as np\n",
    "slope, intercept, r_value, p_value, std_err = stats.linregress(x,y)"
   ]
  },
  {
   "cell_type": "code",
   "execution_count": 18,
   "metadata": {},
   "outputs": [
    {
     "data": {
      "text/plain": [
       "0.28871527272727254"
      ]
     },
     "execution_count": 18,
     "metadata": {},
     "output_type": "execute_result"
    }
   ],
   "source": [
    "slope"
   ]
  },
  {
   "cell_type": "code",
   "execution_count": 19,
   "metadata": {},
   "outputs": [
    {
     "data": {
      "text/plain": [
       "10.443562545454547"
      ]
     },
     "execution_count": 19,
     "metadata": {},
     "output_type": "execute_result"
    }
   ],
   "source": [
    "intercept\n"
   ]
  },
  {
   "cell_type": "code",
   "execution_count": null,
   "metadata": {},
   "outputs": [],
   "source": []
  }
 ],
 "metadata": {
  "kernelspec": {
   "display_name": "Python 3.10.1 64-bit",
   "language": "python",
   "name": "python3"
  },
  "language_info": {
   "codemirror_mode": {
    "name": "ipython",
    "version": 3
   },
   "file_extension": ".py",
   "mimetype": "text/x-python",
   "name": "python",
   "nbconvert_exporter": "python",
   "pygments_lexer": "ipython3",
   "version": "3.10.1"
  },
  "vscode": {
   "interpreter": {
    "hash": "52634da84371cba311ea128a5ea7cdc41ff074b781779e754b270ff9f8153cee"
   }
  }
 },
 "nbformat": 4,
 "nbformat_minor": 4
}
