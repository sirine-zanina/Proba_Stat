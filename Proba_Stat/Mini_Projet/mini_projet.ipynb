{
 "cells": [
  {
   "attachments": {},
   "cell_type": "markdown",
   "metadata": {},
   "source": [
    "# Mini Projet: The Monty Hall Problem\n",
    "<html>\n",
    "   <head>\n",
    "      <title>HTML Base Tag Example</title>\n",
    "   </head>\n",
    "  \n",
    "\n",
    "</html>"
   ]
  },
  {
   "attachments": {},
   "cell_type": "markdown",
   "metadata": {},
   "source": [
    "|    nom   | prenom  | classe | groupe |\n",
    "|----------|---------|--------|--------|\n",
    "|  ZANINA  |  Sirine | 2LM1   | TP2    |"
   ]
  },
  {
   "attachments": {},
   "cell_type": "markdown",
   "metadata": {},
   "source": [
    "![Monty Hall](MontyHall.png)"
   ]
  },
  {
   "attachments": {},
   "cell_type": "markdown",
   "metadata": {},
   "source": [
    "Vous participez à un jeu télévisé où l'animateur vous présente trois portes. Quelle que soit la porte que vous choisissez, vous pouvez garder ce qui se trouve derrière. Deux des portes ont des chèvres derrière elles, et l'une d'entre elles a une voiture toute neuve (c'est celle que vous voulez... sauf si vous aimez vraiment les chèvres).\n",
    "\n",
    "* 1er tour : l'animateur vous demande de choisir une porte - vous faites votre choix parmi les trois portes disponibles.\n",
    "\n",
    "* 2ème tour : l'animateur décide alors de vous aider en ouvrant l'une des portes restantes ; il ouvre toujours une porte de chèvre restante. Il reste donc deux portes non ouvertes - celle que vous avez choisie au départ, et l'autre non ouverte. L'animateur vous demande alors si vous souhaitez revenir sur votre décision.\n",
    "\n",
    "<b>Que devriez-vous faire ?</b>\n",
    "\n",
    "* Pour la plupart des gens, y compris moi-même, votre intuition vous dirait que cela n'a pas vraiment d'importance. Il reste maintenant deux portes - l'une contient la chèvre, l'autre la voiture... c'est comme le lancer d'une pièce de monnaie... que vous restiez sur votre choix initial ou que vous changiez de porte, vous avez une probabilité de 50% d'obtenir la voiture. Cela semble logique à première vue.\n",
    "\n",
    "Cependant, si vous examinez ce problème à l'aide de statistiques et de probabilités, il devient clair que changer de porte est une bien meilleure décision. Mais pourquoi ?\n"
   ]
  },
  {
   "cell_type": "code",
   "execution_count": 5,
   "metadata": {},
   "outputs": [],
   "source": [
    "#Import the libraries\n",
    "import random\n",
    "import matplotlib.pyplot as plt\n",
    "plt.style.use('fivethirtyeight')"
   ]
  },
  {
   "cell_type": "code",
   "execution_count": 6,
   "metadata": {},
   "outputs": [],
   "source": [
    "#Create a function for the host to reveal a door that doesn't contain the prize and a door that isn't the contestants/players originical choice\n",
    "\n",
    "def get_non_prize_door(host, num_doors, player_choice):\n",
    "    i=1\n",
    "    while(i==host or i==player_choice):\n",
    "        i = (i+1)%(num_doors)\n",
    "    return i\n"
   ]
  },
  {
   "cell_type": "code",
   "execution_count": 7,
   "metadata": {},
   "outputs": [],
   "source": [
    "#Create a function to have the player switch to the other unopened door\n",
    "\n",
    "def switch_function(shown_door, num_doors, player_choice):\n",
    "    i=1\n",
    "    while(i==shown_door or i==player_choice):\n",
    "        i = (i+1)%(num_doors)\n",
    "    return i\n"
   ]
  },
  {
   "cell_type": "code",
   "execution_count": 17,
   "metadata": {},
   "outputs": [],
   "source": [
    "# Create a function to simulate the game\n",
    "\n",
    "def monty_hall(switch, num_tests):\n",
    "    win_switch_count = 0\n",
    "    win_no_switch_count= 0\n",
    "    lose_switch_count = 0\n",
    "    lose_no_switch_count= 0\n",
    "\n",
    "    doors = [0,1,2]\n",
    "    num_doors = len(doors)\n",
    "\n",
    "    # Loop throught the number of times the contestant/player is gonna play the game.\n",
    "    for i in range(0, num_tests):\n",
    "        door_with_prize = random.randint(0, num_doors-1) #Choose randomly a door between [0,2]\n",
    "        host = door_with_prize\n",
    "        player_choice = random.randint(0, num_doors-1)\n",
    "        original_player_choice = player_choice\n",
    "        shown_door = get_non_prize_door(host, num_doors, player_choice)\n",
    "\n",
    "        #If the player chooses to always switch, then allow the player to switch their original chosen door\n",
    "        #to the other unopened door\n",
    "\n",
    "        if switch == True:\n",
    "            player_choice = switch_function(shown_door, num_doors, player_choice)\n",
    "        \n",
    "        if player_choice == door_with_prize and switch == False:\n",
    "            #Then the player wins from not switching\n",
    "            print('Player Wins (No switch) - The player chose door :',player_choice,' Original door choice:',\n",
    "            original_player_choice, ' Door with prize: ',door_with_prize,' Shown door: ',shown_door)\n",
    "            win_no_switch_count+=1\n",
    "\n",
    "        elif player_choice == door_with_prize and switch == True:\n",
    "            #Then the player wins from switching\n",
    "            print('Player Wins (switch) - The player chose door :',player_choice,' Original door choice:',\n",
    "            original_player_choice, ' Door with prize: ',door_with_prize,' Shown door: ',shown_door)\n",
    "            win_switch_count+=1\n",
    "        \n",
    "        elif player_choice != door_with_prize and switch == False:\n",
    "            #Then the player lost from not switching\n",
    "            print('Player Lost (No switch) - The player chose door :',player_choice,' Original door choice:',\n",
    "            original_player_choice, ' Door with prize: ',door_with_prize,' Shown door: ',shown_door)\n",
    "            lose_no_switch_count+=1\n",
    "\n",
    "        elif player_choice != door_with_prize and switch == True:\n",
    "            #Then the player lost from switching\n",
    "            print('Player Lost (switch) - The player chose door :',player_choice,' Original door choice:',\n",
    "            original_player_choice, ' Door with prize: ',door_with_prize,' Shown door: ',shown_door)\n",
    "            lose_switch_count+=1\n",
    "\n",
    "        else:\n",
    "            print(\"SOMETHING IS WRONG\")\n",
    "    \n",
    "    return win_no_switch_count, win_switch_count,lose_no_switch_count,lose_switch_count, num_tests\n",
    "\n"
   ]
  },
  {
   "cell_type": "code",
   "execution_count": 21,
   "metadata": {},
   "outputs": [
    {
     "name": "stdout",
     "output_type": "stream",
     "text": [
      "Player Wins (switch) - The player chose door : 1  Original door choice: 2  Door with prize:  1  Shown door:  0\n",
      "Player Lost (switch) - The player chose door : 2  Original door choice: 0  Door with prize:  0  Shown door:  1\n",
      "Player Wins (switch) - The player chose door : 2  Original door choice: 1  Door with prize:  2  Shown door:  0\n",
      "Player Wins (switch) - The player chose door : 2  Original door choice: 1  Door with prize:  2  Shown door:  0\n",
      "Player Lost (switch) - The player chose door : 0  Original door choice: 1  Door with prize:  1  Shown door:  2\n",
      "Player Wins (switch) - The player chose door : 0  Original door choice: 2  Door with prize:  0  Shown door:  1\n",
      "Player Wins (switch) - The player chose door : 1  Original door choice: 0  Door with prize:  1  Shown door:  2\n",
      "Player Wins (switch) - The player chose door : 2  Original door choice: 1  Door with prize:  2  Shown door:  0\n",
      "Player Lost (switch) - The player chose door : 0  Original door choice: 2  Door with prize:  2  Shown door:  1\n",
      "Player Lost (switch) - The player chose door : 2  Original door choice: 0  Door with prize:  0  Shown door:  1\n"
     ]
    }
   ],
   "source": [
    "#Play the game\n",
    "\n",
    "x = monty_hall(True, 10)"
   ]
  },
  {
   "cell_type": "code",
   "execution_count": 22,
   "metadata": {},
   "outputs": [
    {
     "name": "stdout",
     "output_type": "stream",
     "text": [
      "Win switch %:  0.6\n",
      "Lose switch %:  0.4\n",
      "Win no switch %:  0.0\n",
      "Lose no switch %:  0.0\n"
     ]
    }
   ],
   "source": [
    "#Get the win & lost percentage for switching or not switching\n",
    "\n",
    "print('Win switch %: ', x[1]/x[4])\n",
    "print('Lose switch %: ', x[3]/x[4])\n",
    "print('Win no switch %: ', x[0]/x[4])\n",
    "print('Lose no switch %: ', x[2]/x[4])"
   ]
  },
  {
   "cell_type": "code",
   "execution_count": 23,
   "metadata": {},
   "outputs": [],
   "source": [
    "# Créer une fonction pour simuler le jeu\n",
    "\n",
    "def monty_hall2(switch, num_tests):\n",
    "    win_switch_count = 0\n",
    "    win_no_switch_count= 0\n",
    "    lose_switch_count = 0\n",
    "    lose_no_switch_count= 0\n",
    "\n",
    "    doors = [0,1,2]\n",
    "    num_doors = len(doors)\n",
    "\n",
    "    # Créer un boucle pour les nombres des fois qu'un joueur peut jouer.\n",
    "    for i in range(0, num_tests):\n",
    "        door_with_prize = random.randint(0, num_doors-1) #Choisir aléatoirement un porte entre [0,2]\n",
    "        host = door_with_prize\n",
    "        player_choice = random.randint(0, num_doors-1)\n",
    "        original_player_choice = player_choice\n",
    "        shown_door = get_non_prize_door(host, num_doors, player_choice)\n",
    "\n",
    "        #If the player chooses to always switch, then allow the player to switch their original chosen door\n",
    "        #to the other unopened door\n",
    "\n",
    "        if switch == True:\n",
    "            player_choice = switch_function(shown_door, num_doors, player_choice)\n",
    "        \n",
    "        if player_choice == door_with_prize and switch == False:\n",
    "            #Then the player wins from not switching\n",
    "           # print('Player Wins (No switch) - The player chose door :',player_choice,' Original door choice:',\n",
    "            #original_player_choice, ' Door with prize: ',door_with_prize,' Shown door: ',shown_door)\n",
    "            win_no_switch_count+=1\n",
    "\n",
    "        elif player_choice == door_with_prize and switch == True:\n",
    "            #Then the player wins from switching\n",
    "            #print('Player Wins (switch) - The player chose door :',player_choice,' Original door choice:',\n",
    "            #original_player_choice, ' Door with prize: ',door_with_prize,' Shown door: ',shown_door)\n",
    "            win_switch_count+=1\n",
    "        \n",
    "        elif player_choice != door_with_prize and switch == False:\n",
    "            #Then the player lost from not switching\n",
    "            #print('Player Lost (No switch) - The player chose door :',player_choice,' Original door choice:',\n",
    "            #original_player_choice, ' Door with prize: ',door_with_prize,' Shown door: ',shown_door)\n",
    "            lose_no_switch_count+=1\n",
    "\n",
    "        elif player_choice != door_with_prize and switch == True:\n",
    "            #Then the player lost from switching\n",
    "            #print('Player Lost (switch) - The player chose door :',player_choice,' Original door choice:',\n",
    "            #original_player_choice, ' Door with prize: ',door_with_prize,' Shown door: ',shown_door)\n",
    "            lose_switch_count+=1\n",
    "            \n",
    "    return win_no_switch_count, win_switch_count,lose_no_switch_count,lose_switch_count, num_tests\n",
    "\n"
   ]
  },
  {
   "cell_type": "code",
   "execution_count": 28,
   "metadata": {},
   "outputs": [],
   "source": [
    "#Play the game\n",
    "\n",
    "x = monty_hall2(True, 100_000)"
   ]
  },
  {
   "cell_type": "code",
   "execution_count": 29,
   "metadata": {},
   "outputs": [
    {
     "name": "stdout",
     "output_type": "stream",
     "text": [
      "Win switch %:  0.66607\n",
      "Lose switch %:  0.33393\n",
      "Win no switch %:  0.0\n",
      "Lose no switch %:  0.0\n"
     ]
    }
   ],
   "source": [
    "#Get the win & lost percentage for switching or not switching\n",
    "\n",
    "print('Win switch %: ', x[1]/x[4])\n",
    "print('Lose switch %: ', x[3]/x[4])\n",
    "print('Win no switch %: ', x[0]/x[4])\n",
    "print('Lose no switch %: ', x[2]/x[4])"
   ]
  },
  {
   "cell_type": "code",
   "execution_count": null,
   "metadata": {},
   "outputs": [],
   "source": [
    "#If we run this game 100_000 times we get a 66% chance of winning and 33% chance of losing."
   ]
  },
  {
   "cell_type": "code",
   "execution_count": 37,
   "metadata": {},
   "outputs": [],
   "source": [
    "#Get the data to create a visualization of the number of simulated tests/games played\n",
    "#and the percentage of wins from always switching\n",
    "\n",
    "num_tests = []\n",
    "win_percentage = []\n",
    "switch = True\n",
    "\n",
    "#Run up to 10_000 simulated games\n",
    "\n",
    "for i in range(1,10_001):\n",
    "    num_tests.append(i)\n",
    "    y= monty_hall2(switch, i)\n",
    "    win_percentage.append(y[1]/y[4])\n",
    "\n",
    "\n"
   ]
  },
  {
   "cell_type": "code",
   "execution_count": 38,
   "metadata": {},
   "outputs": [
    {
     "data": {
      "image/png": "[encoded data removed]",
      "text/plain": [
       "<Figure size 1220x450 with 1 Axes>"
      ]
     },
     "metadata": {},
     "output_type": "display_data"
    }
   ],
   "source": [
    "#Visually show the number of tests and the win percentage from always switching\n",
    "\n",
    "plt.figure(figsize=(12.2, 4.5))\n",
    "plt.plot(num_tests, win_percentage)\n",
    "plt.title('Monty Hall Problem')\n",
    "plt.xlabel('Number of tests')\n",
    "\n",
    "plt.ylabel('Win Percentage')\n",
    "plt.show()\n"
   ]
  },
  {
   "cell_type": "code",
   "execution_count": 39,
   "metadata": {},
   "outputs": [
    {
     "name": "stdout",
     "output_type": "stream",
     "text": [
      "The win percentage for test playing  10000 games is:  66.97999999999999 %\n"
     ]
    }
   ],
   "source": [
    "print('The win percentage for test playing ',y[4],'games is: ',y[1]/y[4] * 100, '%')"
   ]
  },
  {
   "attachments": {},
   "cell_type": "markdown",
   "metadata": {},
   "source": [
    "----"
   ]
  },
  {
   "attachments": {},
   "cell_type": "markdown",
   "metadata": {},
   "source": [
    "# Explanation\n",
    "\n",
    "Suppose the player initially chooses <b>`door 1`</b>:\n",
    "* The door that has the car can either be door number <b>`1`</b> , <b>`2`</b> or <b>`3`</b>. \n",
    "* Let C : the event that the contestant opens the car door.\n",
    "* <b>`P(C)`</b> : the probability of opening the car door.\n",
    "\n",
    "$$P(C =1,2,3)=\\dfrac{1}{3}$$ \n",
    "\n",
    "* Let M : the event that Monty opens the door.\n",
    "* <b>`P(M)`</b>: the probability of Monty opening the door.\n",
    "* <b>`P(M = 2)`</b>: the probability of Monty opening the door number 2.\n",
    "\n",
    "$$P(C =1 \\cap M = 2 )=\\dfrac{1}{2}$$ \n",
    "$$P(C =1 \\cap M = 3 )=\\dfrac{1}{2}$$ \n",
    "$$P(C =2\\cap M = 3 )=1$$ \n",
    "$$P(C =3\\cap M = 2 )=1$$ \n",
    "\n",
    "* <b>`P(C = 1| M = 2)`</b>: the probability of Monty Hall opening the door number 2 <b>`knowing that the car is in\n",
    "door number 1`</b>, etc.\n",
    "\n",
    "$$P(C =1 | M = 2 )=\\dfrac{1}{3}$$ \n",
    "\n",
    "=> Conditioning on Monty Hall opening door 2, there's a 1/3 chance that the car is behind door 1.\n",
    "\n",
    "$$P(C =3 | M =2 )=\\dfrac{2}{3}$$ \n",
    "\n",
    "=> Conditioning on Monty Hall opening door 2, there's a 2/3 chance that the car is behind door 3.\n",
    "\n",
    "<b>`Conclusion: `</b>\n",
    "\n",
    "$$P(SuccessIfSwitch|MontyOpensDoor{2})=\\dfrac{2}{3}$$ \n",
    "\n",
    "\n",
    "\n",
    "\n",
    "\n",
    "\n",
    "* The same goes for when the player chooses door 2 or door 3.\n",
    "\n",
    "\n",
    "\n",
    "\n",
    "\n",
    "\n"
   ]
  },
  {
   "attachments": {},
   "cell_type": "markdown",
   "metadata": {},
   "source": [
    "----"
   ]
  },
  {
   "attachments": {},
   "cell_type": "markdown",
   "metadata": {},
   "source": [
    "# Law of Total Probability"
   ]
  },
  {
   "attachments": {},
   "cell_type": "markdown",
   "metadata": {},
   "source": [
    "\n",
    "The Law of Total Probability could be thought as <em>**Wishful Thinking.** </em> <br>\n",
    "**What do we wish we knew?**\n",
    "\n",
    "Naturally, we wish we knew where the car was. So we're gonna condition on that.\n",
    "\n",
    "* Let S: be the event that we <em>**succeed (assuming we switch)** </em>\n",
    "* Let D_j : Door j has car (j in [1,2,3])\n",
    "\n",
    "Note: \n",
    "$$P(D_1)=P(D_2)=P(D_3)=\\dfrac{1}{3}$$\n",
    "\n",
    "Applying the Law of Total Probability:\n",
    "\n",
    "$$P(S)=P(S|D_1)\\times\\dfrac{1}{3} + P(S|D_2)\\times\\dfrac{1}{3} + P(S|D_3)\\times\\dfrac{1}{3}$$\n",
    "$$= 0 + 1\\times\\dfrac{1}{3}+ 1\\times\\dfrac{1}{3}$$\n",
    "$$ = \\dfrac{2}{3} $$\n",
    "\n",
    "By symmetry: \n",
    "\n",
    "$$P(S|MontyOpens2)=\\dfrac{2}{3}$$"
   ]
  },
  {
   "attachments": {},
   "cell_type": "markdown",
   "metadata": {},
   "source": [
    "----"
   ]
  }
 ],
 "metadata": {
  "kernelspec": {
   "display_name": "Python 3",
   "language": "python",
   "name": "python3"
  },
  "language_info": {
   "codemirror_mode": {
    "name": "ipython",
    "version": 3
   },
   "file_extension": ".py",
   "mimetype": "text/x-python",
   "name": "python",
   "nbconvert_exporter": "python",
   "pygments_lexer": "ipython3",
   "version": "3.10.1 (tags/v3.10.1:2cd268a, Dec  6 2021, 19:10:37) [MSC v.1929 64 bit (AMD64)]"
  },
  "orig_nbformat": 4,
  "vscode": {
   "interpreter": {
    "hash": "52634da84371cba311ea128a5ea7cdc41ff074b781779e754b270ff9f8153cee"
   }
  }
 },
 "nbformat": 4,
 "nbformat_minor": 2
}
